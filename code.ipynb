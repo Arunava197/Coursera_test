{
  "nbformat": 4,
  "nbformat_minor": 0,
  "metadata": {
    "colab": {
      "provenance": []
    },
    "kernelspec": {
      "name": "python3",
      "display_name": "Python 3"
    },
    "language_info": {
      "name": "python"
    }
  },
  "cells": [
    {
      "cell_type": "markdown",
      "source": [
        "# Data Science Tools and Ecosystem"
      ],
      "metadata": {
        "id": "ewx92jGaQzp1"
      }
    },
    {
      "cell_type": "markdown",
      "source": [
        "## In this notebook, Data Science Tools and Ecosystem are summarized.\n"
      ],
      "metadata": {
        "id": "86t3BaJLQ9yt"
      }
    },
    {
      "cell_type": "markdown",
      "source": [
        "## Some of the popular languages that Data Scientists use are:\n",
        "- Python\n",
        "- R\n",
        "- SQL\n",
        "\n"
      ],
      "metadata": {
        "id": "PlCuAogHRE0d"
      }
    },
    {
      "cell_type": "markdown",
      "source": [
        "## Some of the commonly used libraries used by Data Scientists include:\n",
        "- Pandas\n",
        "- NumPy\n",
        "- Scikit-learn\n",
        "- TensorFlow\n",
        "- Matplotlib\n"
      ],
      "metadata": {
        "id": "EcnQ_db6RIT1"
      }
    },
    {
      "cell_type": "markdown",
      "source": [
        "## Data Science Tools\n",
        "\n",
        "| Data Science Tools |\n",
        "|--------------------|\n",
        "| JupyterLab         |\n",
        "| RStudio            |\n",
        "| Google Colab       |\n",
        "\n"
      ],
      "metadata": {
        "id": "H4s_U039RTkl"
      }
    },
    {
      "cell_type": "markdown",
      "source": [
        "Below are a few examples of evaluating arithmetic expressions in Python"
      ],
      "metadata": {
        "id": "hLBVwi_QRasO"
      }
    },
    {
      "cell_type": "code",
      "source": [
        "#This a simple arithmetic expression to mutiply then add integers\n",
        "\n",
        "(3*4)+5"
      ],
      "metadata": {
        "colab": {
          "base_uri": "https://localhost:8080/"
        },
        "id": "WBI9oiywRhdw",
        "outputId": "a8907de7-ed5b-469e-f74a-f8a62aaaf283"
      },
      "execution_count": 7,
      "outputs": [
        {
          "output_type": "execute_result",
          "data": {
            "text/plain": [
              "17"
            ]
          },
          "metadata": {},
          "execution_count": 7
        }
      ]
    },
    {
      "cell_type": "code",
      "source": [
        "#  This will convert 200 minutes to hours by diving by 60\n",
        "def minutes_to_hours(minutes):\n",
        "    return minutes / 60\n",
        "\n",
        "minutes = 200\n",
        "hours = minutes_to_hours(minutes)\n",
        "hours\n"
      ],
      "metadata": {
        "colab": {
          "base_uri": "https://localhost:8080/"
        },
        "id": "tZUkDW7MRikG",
        "outputId": "83563062-0265-4764-8d0a-4e6d1841dad2"
      },
      "execution_count": 8,
      "outputs": [
        {
          "output_type": "execute_result",
          "data": {
            "text/plain": [
              "3.3333333333333335"
            ]
          },
          "metadata": {},
          "execution_count": 8
        }
      ]
    },
    {
      "cell_type": "markdown",
      "source": [
        "## **Objectives:**\n",
        "\n",
        "\n",
        "- List popular languages for Data Science.\n",
        "- Identify key libraries used in Data Science.\n",
        "- Understand essential Data Science tools.\n",
        "- Perform basic arithmetic operations using Python.\n",
        "- Convert time units from minutes to hours.\n"
      ],
      "metadata": {
        "id": "g24zHQucRq29"
      }
    },
    {
      "cell_type": "markdown",
      "source": [
        "## Author\n",
        "Arunava Chandan Roy\n"
      ],
      "metadata": {
        "id": "3bLJq8dJRz-9"
      }
    }
  ]
}